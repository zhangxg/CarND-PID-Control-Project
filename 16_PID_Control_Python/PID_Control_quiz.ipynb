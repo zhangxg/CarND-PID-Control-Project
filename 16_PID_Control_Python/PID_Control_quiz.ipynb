{
 "cells": [
  {
   "cell_type": "code",
   "execution_count": 1,
   "metadata": {
    "collapsed": true
   },
   "outputs": [],
   "source": [
    "# -----------\n",
    "# User Instructions\n",
    "#\n",
    "# Implement a P controller by running 100 iterations\n",
    "# of robot motion. The desired trajectory for the \n",
    "# robot is the x-axis. The steering angle should be set\n",
    "# by the parameter tau so that:\n",
    "#\n",
    "# steering = -tau * crosstrack_error\n",
    "#\n",
    "# You'll only need to modify the `run` function at the bottom.\n",
    "# ------------\n",
    "import random\n",
    "import numpy as np\n",
    "import matplotlib.pyplot as plt\n",
    "%matplotlib inline"
   ]
  },
  {
   "cell_type": "code",
   "execution_count": 2,
   "metadata": {
    "collapsed": true
   },
   "outputs": [],
   "source": [
    "class Robot(object):\n",
    "    def __init__(self, length=20.0):\n",
    "        \"\"\"\n",
    "        Creates robot and initializes location/orientation to 0, 0, 0.\n",
    "        \"\"\"\n",
    "        self.x = 0.0\n",
    "        self.y = 0.0\n",
    "        self.orientation = 0.0\n",
    "        self.length = length\n",
    "        self.steering_noise = 0.0\n",
    "        self.distance_noise = 0.0\n",
    "        self.steering_drift = 0.0\n",
    "\n",
    "    def set(self, x, y, orientation):\n",
    "        \"\"\"\n",
    "        Sets a robot coordinate.\n",
    "        \"\"\"\n",
    "        self.x = x\n",
    "        self.y = y\n",
    "        self.orientation = orientation % (2.0 * np.pi)\n",
    "\n",
    "    def set_noise(self, steering_noise, distance_noise):\n",
    "        \"\"\"\n",
    "        Sets the noise parameters.\n",
    "        \"\"\"\n",
    "        # makes it possible to change the noise parameters\n",
    "        # this is often useful in particle filters\n",
    "        self.steering_noise = steering_noise\n",
    "        self.distance_noise = distance_noise\n",
    "\n",
    "    def set_steering_drift(self, drift):\n",
    "        \"\"\"\n",
    "        Sets the systematical steering drift parameter\n",
    "        \"\"\"\n",
    "        self.steering_drift = drift\n",
    "\n",
    "    def move(self, steering, distance, tolerance=0.001, max_steering_angle=np.pi / 4.0):\n",
    "        \"\"\"\n",
    "        steering = front wheel steering angle, limited by max_steering_angle\n",
    "        distance = total distance driven, most be non-negative\n",
    "        \"\"\"\n",
    "        if steering > max_steering_angle:\n",
    "            steering = max_steering_angle\n",
    "        if steering < -max_steering_angle:\n",
    "            steering = -max_steering_angle\n",
    "        if distance < 0.0:\n",
    "            distance = 0.0\n",
    "\n",
    "        # apply noise\n",
    "        steering2 = random.gauss(steering, self.steering_noise)\n",
    "        distance2 = random.gauss(distance, self.distance_noise)\n",
    "\n",
    "        # apply steering drift\n",
    "        steering2 += self.steering_drift\n",
    "\n",
    "        # Execute motion\n",
    "        turn = np.tan(steering2) * distance2 / self.length\n",
    "\n",
    "        if abs(turn) < tolerance:\n",
    "            # approximate by straight line motion\n",
    "            self.x += distance2 * np.cos(self.orientation)\n",
    "            self.y += distance2 * np.sin(self.orientation)\n",
    "            self.orientation = (self.orientation + turn) % (2.0 * np.pi)\n",
    "        else:\n",
    "            # approximate bicycle model for motion\n",
    "            radius = distance2 / turn\n",
    "            cx = self.x - (np.sin(self.orientation) * radius)\n",
    "            cy = self.y + (np.cos(self.orientation) * radius)\n",
    "            self.orientation = (self.orientation + turn) % (2.0 * np.pi)\n",
    "            self.x = cx + (np.sin(self.orientation) * radius)\n",
    "            self.y = cy - (np.cos(self.orientation) * radius)\n",
    "\n",
    "    def __repr__(self):\n",
    "        return '[x=%.5f y=%.5f orient=%.5f]' % (self.x, self.y, self.orientation)"
   ]
  },
  {
   "cell_type": "code",
   "execution_count": 3,
   "metadata": {
    "collapsed": true
   },
   "outputs": [],
   "source": [
    "############## ADD / MODIFY CODE BELOW ####################\n",
    "# ------------------------------------------------------------------------\n",
    "# run - does a single control run\n",
    "robot = Robot()\n",
    "robot.set(0, 1, 0)\n",
    "\n",
    "# below is my try,\n",
    "# def run(robot, tau, n=100, speed=1.0):\n",
    "#     x_trajectory = []\n",
    "#     y_trajectory = []\n",
    "#     x_trajectory.append(robot.x)\n",
    "#     y_trajectory.append(robot.y)\n",
    "#     for i in range(1, n):\n",
    "#         robot.x = robot.x + speed * np.cos(tau)\n",
    "#         x_trajectory.append(robot.x);\n",
    "#         if robot.y > 0:\n",
    "#             robot.y = robot.y - speed * np.sin(tau)\n",
    "#         else:\n",
    "#             robot.y = robot.y + speed * np.sin(tau)\n",
    "#         y_trajectory.append(robot.y)     \n",
    "#     # TODO: your code here\n",
    "#     return x_trajectory, y_trajectory\n",
    "    \n",
    "# below is the teacher's try:\n",
    "def run_P(robot, tau, n=100, speed=1.0):\n",
    "    x_trajectory = []\n",
    "    y_trajectory = []\n",
    "    # TODO: your code here\n",
    "    for i in range(n):\n",
    "        cross_track_error = robot.y\n",
    "        steer = -tau * cross_track_error\n",
    "        robot.move(steer, speed)\n",
    "        x_trajectory.append(robot.x)\n",
    "        y_trajectory.append(robot.y)\n",
    "    return x_trajectory, y_trajectory"
   ]
  },
  {
   "cell_type": "code",
   "execution_count": 6,
   "metadata": {},
   "outputs": [
    {
     "data": {
      "text/plain": [
       "[<matplotlib.lines.Line2D at 0x1066ac5c0>]"
      ]
     },
     "execution_count": 6,
     "metadata": {},
     "output_type": "execute_result"
    },
    {
     "data": {
      "image/png": "[encoded data removed]",
      "text/plain": [
       "<matplotlib.figure.Figure at 0x1064b5320>"
      ]
     },
     "metadata": {},
     "output_type": "display_data"
    }
   ],
   "source": [
    "x_trajectory, y_trajectory = run_P(robot, 0.1)\n",
    "# n = len(x_trajectory)\n",
    "# for x,y in zip(x_trajectory, y_trajectory):\n",
    "#     print(x, y)\n",
    "fig, (ax1, ax2) = plt.subplots(2, 1, figsize=(8, 8))\n",
    "ax1.plot(x_trajectory, y_trajectory, 'g', label='P controller')\n",
    "ax1.plot(x_trajectory, np.zeros(len(x_trajectory)), 'b', label='reference')"
   ]
  },
  {
   "cell_type": "code",
   "execution_count": 7,
   "metadata": {},
   "outputs": [
    {
     "data": {
      "text/plain": [
       "[<matplotlib.lines.Line2D at 0x106897f60>]"
      ]
     },
     "execution_count": 7,
     "metadata": {},
     "output_type": "execute_result"
    },
    {
     "data": {
      "image/png": "[encoded data removed]",
      "text/plain": [
       "<matplotlib.figure.Figure at 0x1066e4048>"
      ]
     },
     "metadata": {},
     "output_type": "display_data"
    }
   ],
   "source": [
    "# if we adjust tau to 0.3, which the car ocilliate faster\n",
    "x_trajectory, y_trajectory = run_P(robot, 0.3)\n",
    "fig, (ax1, ax2) = plt.subplots(2, 1, figsize=(8, 8))\n",
    "ax1.plot(x_trajectory, y_trajectory, 'g', label='P controller')\n",
    "ax1.plot(x_trajectory, np.zeros(len(x_trajectory)), 'b', label='reference')"
   ]
  },
  {
   "cell_type": "code",
   "execution_count": 8,
   "metadata": {
    "collapsed": true
   },
   "outputs": [],
   "source": [
    "# the PD controller\n",
    "### my try\n",
    "# def run_PD(robot, tau_p, tau_d, n=100, speed=1.0):\n",
    "#     x_trajectory = []\n",
    "#     y_trajectory = []\n",
    "#     # TODO: your code here\n",
    "#     cte_previous = 0\n",
    "#     for i in range(n):\n",
    "#         steer = - tau_p * robot.y - tau_d * (robot.y - cte_previous)\n",
    "#         cte_previous = robot.y\n",
    "#         robot.move(steer, speed)\n",
    "#         x_trajectory.append(robot.x)\n",
    "#         y_trajectory.append(robot.y)\n",
    "#     return x_trajectory, y_trajectory\n",
    "\n",
    "### the teacher's code, from the shape, it looks like the same. \n",
    "def run_PD(robot, tau_p, tau_d, n=100, speed=1.0):\n",
    "    x_trajectory = []\n",
    "    y_trajectory = []\n",
    "    prev_cte = robot.y   # this value is given to the first value, and I think give it zero also work, \n",
    "    for i in range(n):\n",
    "        cte = robot.y\n",
    "        diff_cte = cte - prev_cte\n",
    "        prev_cte = cte\n",
    "        steer = -tau_p * cte - tau_d * diff_cte\n",
    "        robot.move(steer, speed)\n",
    "        x_trajectory.append(robot.x)\n",
    "        y_trajectory.append(robot.y)\n",
    "    return x_trajectory, y_trajectory"
   ]
  },
  {
   "cell_type": "code",
   "execution_count": 11,
   "metadata": {},
   "outputs": [
    {
     "data": {
      "text/plain": [
       "[<matplotlib.lines.Line2D at 0x106fb2b38>]"
      ]
     },
     "execution_count": 11,
     "metadata": {},
     "output_type": "execute_result"
    },
    {
     "data": {
      "image/png": "[encoded data removed]",
      "text/plain": [
       "<matplotlib.figure.Figure at 0x106cac3c8>"
      ]
     },
     "metadata": {},
     "output_type": "display_data"
    }
   ],
   "source": [
    "robot = Robot()\n",
    "robot.set(0, 1, 0)    \n",
    "x_trajectory, y_trajectory = run_PD(robot, 0.2, 3.0)\n",
    "\n",
    "fig, (ax1, ax2) = plt.subplots(2, 1, figsize=(8, 8))\n",
    "ax1.plot(x_trajectory, y_trajectory, 'g', label='PD controller')\n",
    "ax1.plot(x_trajectory, np.zeros(len(x_trajectory)), 'r', label='reference')"
   ]
  },
  {
   "cell_type": "markdown",
   "metadata": {},
   "source": [
    "## systematic bias"
   ]
  },
  {
   "cell_type": "code",
   "execution_count": 12,
   "metadata": {},
   "outputs": [
    {
     "data": {
      "text/plain": [
       "[<matplotlib.lines.Line2D at 0x1071aa0f0>]"
      ]
     },
     "execution_count": 12,
     "metadata": {},
     "output_type": "execute_result"
    },
    {
     "data": {
      "image/png": "[encoded data removed]",
      "text/plain": [
       "<matplotlib.figure.Figure at 0x106fc4198>"
      ]
     },
     "metadata": {},
     "output_type": "display_data"
    }
   ],
   "source": [
    "## let's set the drift\n",
    "robot = Robot()\n",
    "robot.set(0, 1, 0)   \n",
    "robot.set_steering_drift(1.0/180.8*np.pi)\n",
    "## let the tau_d = 0, the lecture said it the systematic bias causes \"the bigger cte\",\n",
    "## while from the graph's shape, it's hard to see where are the bigger from? \n",
    "## \n",
    "x_trajectory, y_trajectory = run_PD(robot, 0.2, 0)\n",
    "\n",
    "fig, (ax1, ax2) = plt.subplots(2, 1, figsize=(8, 8))\n",
    "ax1.plot(x_trajectory, y_trajectory, 'g', label='PD controller')\n",
    "ax1.plot(x_trajectory, np.zeros(len(x_trajectory)), 'r', label='reference')"
   ]
  },
  {
   "cell_type": "markdown",
   "metadata": {},
   "source": [
    "## PID Controller"
   ]
  },
  {
   "cell_type": "markdown",
   "metadata": {},
   "source": [
    "### it interesting, the below two definitions get very different graph shape, \n",
    "analyse why such?"
   ]
  },
  {
   "cell_type": "code",
   "execution_count": 13,
   "metadata": {
    "collapsed": true
   },
   "outputs": [],
   "source": [
    "# -----------\n",
    "# User Instructions\n",
    "#\n",
    "# Implement a P controller by running 100 iterations\n",
    "# of robot motion. The steering angle should be set\n",
    "# by the parameter tau so that:\n",
    "#\n",
    "# steering = -tau_p * CTE - tau_d * diff_CTE - tau_i * int_CTE\n",
    "#\n",
    "# where the integrated crosstrack error (int_CTE) is\n",
    "# the sum of all the previous crosstrack errors.\n",
    "# This term works to cancel out steering drift.\n",
    "#\n",
    "# Only modify code at the bottom! Look for the TODO.\n",
    "# ------------\n",
    "# def run_PID(robot, tau_p, tau_d, tau_i, n=100, speed=1.0):\n",
    "#     x_trajectory = []\n",
    "#     y_trajectory = []\n",
    "#     # TODO: your code here\n",
    "#     cte_prev = robot.y\n",
    "# #     cte_inte = robot.y\n",
    "#     cte_inte = 0\n",
    "#     for i in range(n):\n",
    "#         steer = -tau_p * robot.y - tau_d * (robot.y - cte_prev) - tau_i * cte_inte\n",
    "#         robot.move(steer, speed)\n",
    "#         cte_prev = robot.y\n",
    "#         cte_inte += robot.y\n",
    "#         x_trajectory.append(robot.x)\n",
    "#         y_trajectory.append(robot.y)\n",
    "#     return x_trajectory, y_trajectory\n",
    "\n",
    "def run_PID(robot, tau_p, tau_d, tau_i, n=100, speed=1.0):\n",
    "    x_trajectory = []\n",
    "    y_trajectory = []\n",
    "    prev_cte = robot.y\n",
    "    int_cte = 0\n",
    "    for i in range(n):\n",
    "        cte = robot.y\n",
    "        diff_cte = cte - prev_cte\n",
    "        prev_cte = cte\n",
    "        int_cte += cte\n",
    "        steer = -tau_p * cte - tau_d * diff_cte - tau_i * int_cte\n",
    "        robot.move(steer, speed)\n",
    "        x_trajectory.append(robot.x)\n",
    "        y_trajectory.append(robot.y)\n",
    "    return x_trajectory, y_trajectory\n"
   ]
  },
  {
   "cell_type": "code",
   "execution_count": 14,
   "metadata": {},
   "outputs": [
    {
     "data": {
      "text/plain": [
       "[<matplotlib.lines.Line2D at 0x1064cfa90>]"
      ]
     },
     "execution_count": 14,
     "metadata": {},
     "output_type": "execute_result"
    },
    {
     "data": {
      "image/png": "[encoded data removed]",
      "text/plain": [
       "<matplotlib.figure.Figure at 0x106a74828>"
      ]
     },
     "metadata": {},
     "output_type": "display_data"
    }
   ],
   "source": [
    "robot = Robot()\n",
    "robot.set(0, 1, 0)   \n",
    "# robot.set_steering_drift(1.0/180.8*np.pi)\n",
    "# x_trajectory, y_trajectory = run_PID(robot, 0.2, 3.0, 0.004)\n",
    "x_trajectory, y_trajectory = run_PID(robot, 0.2, 3.0, 0)\n",
    "# n = len(x_trajectory)\n",
    "fig, (ax1, ax2) = plt.subplots(2, 1, figsize=(8,8))\n",
    "ax1.plot(x_trajectory, y_trajectory, 'g', label='PID controller')\n",
    "ax1.plot(x_trajectory, np.zeros(len(x_trajectory)), 'r', label='reference')"
   ]
  },
  {
   "cell_type": "markdown",
   "metadata": {},
   "source": [
    "## twiddle"
   ]
  },
  {
   "cell_type": "code",
   "execution_count": 15,
   "metadata": {
    "collapsed": true
   },
   "outputs": [],
   "source": [
    "def make_robot():\n",
    "    \"\"\"\n",
    "    Resets the robot back to the initial position and drift.\n",
    "    You'll want to call this after you call `run`.\n",
    "    \"\"\"\n",
    "    robot = Robot()\n",
    "    robot.set(0, 1, 0)\n",
    "    robot.set_steering_drift(10 / 180 * np.pi)\n",
    "    return robot"
   ]
  },
  {
   "cell_type": "code",
   "execution_count": 24,
   "metadata": {
    "collapsed": true
   },
   "outputs": [],
   "source": [
    "# NOTE: We use params instead of tau_p, tau_d, tau_i\n",
    "def run(robot, params, n=100, speed=1.0):\n",
    "    x_trajectory = []\n",
    "    y_trajectory = []\n",
    "    err = 0\n",
    "    # TODO: your code here\n",
    "    prev_cte = robot.y\n",
    "    int_cte = 0\n",
    "    for i in range(2 * n):\n",
    "        cte = robot.y\n",
    "        diff_cte = cte - prev_cte\n",
    "        int_cte += cte\n",
    "        prev_cte = cte\n",
    "        steer = -params[0] * cte - params[1] * diff_cte - params[2] * int_cte\n",
    "        robot.move(steer, speed)\n",
    "        x_trajectory.append(robot.x)\n",
    "        y_trajectory.append(robot.y)\n",
    "        if i >= n:\n",
    "            err += cte ** 2\n",
    "    return x_trajectory, y_trajectory, err / n"
   ]
  },
  {
   "cell_type": "code",
   "execution_count": 21,
   "metadata": {},
   "outputs": [],
   "source": [
    "# ----------------\n",
    "# User Instructions\n",
    "#\n",
    "# Implement twiddle as shown in the previous two videos.\n",
    "# Your accumulated error should be very small!\n",
    "#\n",
    "# You don't have to use the exact values as shown in the video\n",
    "# play around with different values! This quiz isn't graded just see\n",
    "# how low of an error you can get.\n",
    "#\n",
    "# Try to get your error below 1.0e-10 with as few iterations\n",
    "# as possible (too many iterations will cause a timeout).\n",
    "#\n",
    "# No cheating!\n",
    "# ------------\n",
    "# Make this tolerance bigger if you are timing out!\n",
    "# def twiddle(tol=0.2): \n",
    "#     # Don't forget to call `make_robot` before you call `run`!\n",
    "#     p = [0, 0, 0]\n",
    "#     dp = [1, 1, 1]\n",
    "#     robot = make_robot()\n",
    "#     x_trajectory, y_trajectory, best_err = run(robot, p)\n",
    "#     # TODO: twiddle loop here\n",
    "#     while sum(dp) > tol:\n",
    "#         for i in range(len(p)):\n",
    "#             p[i] += dp[i]\n",
    "#         x_trajectory, y_trajectory, err = run(robot, p)\n",
    "        \n",
    "#         if err < best_err:\n",
    "#             best_err = err;\n",
    "#             dp = [1.1 * x for x in dp]\n",
    "#         else:\n",
    "#             for i in range(len(p)):\n",
    "#                 p[i] -= 2*dp[i]\n",
    "        \n",
    "#         else:\n",
    "#             pass\n",
    "            \n",
    "#     return p, best_err"
   ]
  },
  {
   "cell_type": "code",
   "execution_count": 25,
   "metadata": {
    "collapsed": true
   },
   "outputs": [],
   "source": [
    "# the teacher's work\n",
    "def twiddle(tol=0.2): \n",
    "    p = [0, 0, 0]\n",
    "    dp = [1, 1, 1]\n",
    "    robot = make_robot()\n",
    "    x_trajectory, y_trajectory, best_err = run(robot, p)\n",
    "\n",
    "    it = 0\n",
    "    while sum(dp) > tol:\n",
    "        print(\"Iteration {}, best error = {}\".format(it, best_err))\n",
    "        for i in range(len(p)):\n",
    "            p[i] += dp[i]\n",
    "            robot = make_robot()\n",
    "            x_trajectory, y_trajectory, err = run(robot, p)\n",
    "\n",
    "            if err < best_err:\n",
    "                best_err = err\n",
    "                dp[i] *= 1.1\n",
    "            else:\n",
    "                p[i] -= 2 * dp[i]\n",
    "                robot = make_robot()\n",
    "                x_trajectory, y_trajectory, err = run(robot, p)\n",
    "\n",
    "                if err < best_err:\n",
    "                    best_err = err\n",
    "                    dp[i] *= 1.1\n",
    "                else:\n",
    "                    p[i] += dp[i]\n",
    "                    dp[i] *= 0.9\n",
    "        it += 1\n",
    "    return p"
   ]
  },
  {
   "cell_type": "code",
   "execution_count": 28,
   "metadata": {},
   "outputs": [
    {
     "name": "stdout",
     "output_type": "stream",
     "text": [
      "Iteration 0, best error = 8315.955485215645\n",
      "Iteration 1, best error = 0.04349708072568837\n",
      "Iteration 2, best error = 0.03065437362443958\n",
      "Iteration 3, best error = 0.007677320020069422\n",
      "Iteration 4, best error = 0.003220167427116263\n",
      "Iteration 5, best error = 0.0016645945527960432\n",
      "Iteration 6, best error = 0.0009761080831886472\n",
      "Iteration 7, best error = 0.0006163432367765914\n",
      "Iteration 8, best error = 0.00041102750373812327\n",
      "Iteration 9, best error = 0.0001987737411478128\n",
      "Iteration 10, best error = 1.1769110322775785e-06\n",
      "Iteration 11, best error = 7.05088435264859e-07\n",
      "Iteration 12, best error = 1.379736671356056e-12\n",
      "Iteration 13, best error = 1.379736671356056e-12\n",
      "Iteration 14, best error = 1.379736671356056e-12\n",
      "Iteration 15, best error = 1.0756081254381531e-12\n",
      "Iteration 16, best error = 1.0756081254381531e-12\n",
      "Iteration 17, best error = 1.0756081254381531e-12\n",
      "Iteration 18, best error = 8.128577728545796e-13\n",
      "Iteration 19, best error = 8.128577728545796e-13\n",
      "Iteration 20, best error = 8.128577728545796e-13\n",
      "Iteration 21, best error = 2.6262743718878566e-13\n",
      "Iteration 22, best error = 2.6262743718878566e-13\n",
      "Iteration 23, best error = 2.6262743718878566e-13\n",
      "Iteration 24, best error = 2.6262743718878566e-13\n",
      "Iteration 25, best error = 2.6262743718878566e-13\n",
      "Iteration 26, best error = 2.6262743718878566e-13\n",
      "Iteration 27, best error = 3.415464748305059e-14\n",
      "Iteration 28, best error = 2.2146601568094967e-14\n",
      "Iteration 29, best error = 1.1111315964316227e-15\n",
      "Iteration 30, best error = 1.1111315964316227e-15\n",
      "Iteration 31, best error = 1.1111315964316227e-15\n",
      "Iteration 32, best error = 6.486248421840799e-16\n",
      "Iteration 33, best error = 6.486248421840799e-16\n",
      "Iteration 34, best error = 6.486248421840799e-16\n",
      "Iteration 35, best error = 6.486248421840799e-16\n",
      "Iteration 36, best error = 6.486248421840799e-16\n",
      "Iteration 37, best error = 6.486248421840799e-16\n",
      "Iteration 38, best error = 6.486248421840799e-16\n",
      "Iteration 39, best error = 6.486248421840799e-16\n",
      "Iteration 40, best error = 6.486248421840799e-16\n",
      "Iteration 41, best error = 6.486248421840799e-16\n",
      "Iteration 42, best error = 6.486248421840799e-16\n",
      "Iteration 43, best error = 6.486248421840799e-16\n",
      "Iteration 44, best error = 6.486248421840799e-16\n",
      "Iteration 45, best error = 6.486248421840799e-16\n",
      "Iteration 46, best error = 6.486248421840799e-16\n",
      "Iteration 47, best error = 6.486248421840799e-16\n",
      "Iteration 48, best error = 6.486248421840799e-16\n",
      "Iteration 49, best error = 6.486248421840799e-16\n",
      "Iteration 50, best error = 6.486248421840799e-16\n",
      "Final twiddle error = 6.486248506265999e-16\n"
     ]
    },
    {
     "data": {
      "text/plain": [
       "[<matplotlib.lines.Line2D at 0x1062561d0>]"
      ]
     },
     "execution_count": 28,
     "metadata": {},
     "output_type": "execute_result"
    },
    {
     "data": {
      "image/png": "[encoded data removed]",
      "text/plain": [
       "<matplotlib.figure.Figure at 0x1064ed4a8>"
      ]
     },
     "metadata": {},
     "output_type": "display_data"
    }
   ],
   "source": [
    "# params, err = twiddle()\n",
    "params = twiddle()\n",
    "# print(\"Final twiddle error = {}\".format(err))\n",
    "robot = make_robot()\n",
    "x_trajectory, y_trajectory, err = run(robot, params)\n",
    "print(\"Final twiddle error = {}\".format(err))\n",
    "n = len(x_trajectory)\n",
    "\n",
    "fig, (ax1, ax2) = plt.subplots(2, 1, figsize=(8, 8))\n",
    "ax1.plot(x_trajectory, y_trajectory, 'g', label='Twiddle PID controller')\n",
    "ax1.plot(x_trajectory, np.zeros(n), 'r', label='reference')"
   ]
  },
  {
   "cell_type": "code",
   "execution_count": null,
   "metadata": {
    "collapsed": true
   },
   "outputs": [],
   "source": []
  }
 ],
 "metadata": {
  "kernelspec": {
   "display_name": "Python 3",
   "language": "python",
   "name": "python3"
  },
  "language_info": {
   "codemirror_mode": {
    "name": "ipython",
    "version": 3
   },
   "file_extension": ".py",
   "mimetype": "text/x-python",
   "name": "python",
   "nbconvert_exporter": "python",
   "pygments_lexer": "ipython3",
   "version": "3.6.0"
  }
 },
 "nbformat": 4,
 "nbformat_minor": 2
}
